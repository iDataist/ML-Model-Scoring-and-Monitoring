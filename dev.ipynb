{
 "cells": [
  {
   "cell_type": "code",
   "execution_count": 17,
   "id": "4320e33a",
   "metadata": {},
   "outputs": [
    {
     "name": "stdout",
     "output_type": "stream",
     "text": [
      "The autoreload extension is already loaded. To reload it, use:\n",
      "  %reload_ext autoreload\n"
     ]
    }
   ],
   "source": [
    "%load_ext autoreload\n",
    "%autoreload 2"
   ]
  },
  {
   "cell_type": "code",
   "execution_count": 18,
   "id": "f8daf7f8",
   "metadata": {},
   "outputs": [],
   "source": [
    "import pandas as pd\n",
    "import numpy as np\n",
    "import os\n",
    "import json\n",
    "from datetime import datetime\n",
    "\n",
    "\n",
    "\n",
    "\n",
    "#############Load config.json and get input and output paths\n",
    "with open('config.json','r') as f:\n",
    "    config = json.load(f) \n",
    "\n",
    "input_folder_path = config['input_folder_path']\n",
    "output_folder_path = config['output_folder_path']\n",
    "ingested_data_file = config['ingested_data_file']\n",
    "ingested_files = config['ingested_files']"
   ]
  },
  {
   "cell_type": "code",
   "execution_count": 25,
   "id": "f666ea64",
   "metadata": {},
   "outputs": [],
   "source": [
    "#############Function for data ingestion\n",
    "def merge_multiple_dataframe(input_folder_path, output_folder_path):  \n",
    "    df_list = []\n",
    "    for file in os.listdir(input_folder_path):\n",
    "        filepath = input_folder_path + '/' + file\n",
    "        temp_df = pd.read_csv(filepath)\n",
    "        df_list.append(temp_df)  \n",
    "        dateTimeObj=datetime.now()\n",
    "        thetimenow=str(dateTimeObj.year)+ '/'+str(dateTimeObj.month)+ '/'+str(dateTimeObj.day)\n",
    "        allrecords=[input_folder_path,file,len(temp_df),thetimenow]\n",
    "        with open(ingested_files,'a') as MyFile:\n",
    "            for element in allrecords:\n",
    "                MyFile.write(str(element) + \" \")\n",
    "            MyFile.write('\\n')\n",
    "    df = pd.concat(df_list, axis=0, ignore_index=True).drop_duplicates()\n",
    "    df.to_csv(output_folder_path + '/' + ingested_data_file, index=False)\n",
    "merge_multiple_dataframe(input_folder_path, output_folder_path)"
   ]
  },
  {
   "cell_type": "code",
   "execution_count": 4,
   "id": "3e3f9b76",
   "metadata": {},
   "outputs": [
    {
     "data": {
      "text/plain": [
       "['dataset4.csv', 'dataset3.csv']"
      ]
     },
     "execution_count": 4,
     "metadata": {},
     "output_type": "execute_result"
    }
   ],
   "source": [
    "os.listdir(input_folder_path)"
   ]
  },
  {
   "cell_type": "code",
   "execution_count": 26,
   "id": "80db801c",
   "metadata": {},
   "outputs": [
    {
     "data": {
      "text/html": [
       "<div>\n",
       "<style scoped>\n",
       "    .dataframe tbody tr th:only-of-type {\n",
       "        vertical-align: middle;\n",
       "    }\n",
       "\n",
       "    .dataframe tbody tr th {\n",
       "        vertical-align: top;\n",
       "    }\n",
       "\n",
       "    .dataframe thead th {\n",
       "        text-align: right;\n",
       "    }\n",
       "</style>\n",
       "<table border=\"1\" class=\"dataframe\">\n",
       "  <thead>\n",
       "    <tr style=\"text-align: right;\">\n",
       "      <th></th>\n",
       "      <th>corporation</th>\n",
       "      <th>lastmonth_activity</th>\n",
       "      <th>lastyear_activity</th>\n",
       "      <th>number_of_employees</th>\n",
       "      <th>exited</th>\n",
       "    </tr>\n",
       "  </thead>\n",
       "  <tbody>\n",
       "    <tr>\n",
       "      <th>0</th>\n",
       "      <td>abcd</td>\n",
       "      <td>99</td>\n",
       "      <td>871</td>\n",
       "      <td>3</td>\n",
       "      <td>0</td>\n",
       "    </tr>\n",
       "    <tr>\n",
       "      <th>1</th>\n",
       "      <td>asdf</td>\n",
       "      <td>1243</td>\n",
       "      <td>0</td>\n",
       "      <td>10</td>\n",
       "      <td>0</td>\n",
       "    </tr>\n",
       "    <tr>\n",
       "      <th>2</th>\n",
       "      <td>xyzz</td>\n",
       "      <td>0</td>\n",
       "      <td>25</td>\n",
       "      <td>11</td>\n",
       "      <td>1</td>\n",
       "    </tr>\n",
       "    <tr>\n",
       "      <th>3</th>\n",
       "      <td>acme</td>\n",
       "      <td>813</td>\n",
       "      <td>129</td>\n",
       "      <td>9</td>\n",
       "      <td>1</td>\n",
       "    </tr>\n",
       "    <tr>\n",
       "      <th>4</th>\n",
       "      <td>qwer</td>\n",
       "      <td>2989</td>\n",
       "      <td>9982</td>\n",
       "      <td>90</td>\n",
       "      <td>0</td>\n",
       "    </tr>\n",
       "  </tbody>\n",
       "</table>\n",
       "</div>"
      ],
      "text/plain": [
       "  corporation  lastmonth_activity  lastyear_activity  number_of_employees  \\\n",
       "0        abcd                  99                871                    3   \n",
       "1        asdf                1243                  0                   10   \n",
       "2        xyzz                   0                 25                   11   \n",
       "3        acme                 813                129                    9   \n",
       "4        qwer                2989               9982                   90   \n",
       "\n",
       "   exited  \n",
       "0       0  \n",
       "1       0  \n",
       "2       1  \n",
       "3       1  \n",
       "4       0  "
      ]
     },
     "execution_count": 26,
     "metadata": {},
     "output_type": "execute_result"
    }
   ],
   "source": [
    "dataset_csv_path = os.path.join(config['output_folder_path'], config['ingested_data_file'])\n",
    "model_path = os.path.join(config['output_model_path'])\n",
    "df = pd.read_csv(dataset_csv_path)\n",
    "df.head()"
   ]
  },
  {
   "cell_type": "code",
   "execution_count": 27,
   "id": "abac6c6b",
   "metadata": {},
   "outputs": [
    {
     "data": {
      "text/plain": [
       "array([0, 1])"
      ]
     },
     "execution_count": 27,
     "metadata": {},
     "output_type": "execute_result"
    }
   ],
   "source": [
    "df.exited.unique()"
   ]
  },
  {
   "cell_type": "code",
   "execution_count": null,
   "id": "f0e8ebb8",
   "metadata": {},
   "outputs": [],
   "source": []
  }
 ],
 "metadata": {
  "kernelspec": {
   "display_name": "Python 3",
   "language": "python",
   "name": "python3"
  },
  "language_info": {
   "codemirror_mode": {
    "name": "ipython",
    "version": 3
   },
   "file_extension": ".py",
   "mimetype": "text/x-python",
   "name": "python",
   "nbconvert_exporter": "python",
   "pygments_lexer": "ipython3",
   "version": "3.9.6"
  }
 },
 "nbformat": 4,
 "nbformat_minor": 5
}
